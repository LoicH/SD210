{
 "cells": [
  {
   "cell_type": "markdown",
   "metadata": {
    "deletable": true,
    "editable": true
   },
   "source": [
    "## Récupération des données"
   ]
  },
  {
   "cell_type": "code",
   "execution_count": 1,
   "metadata": {
    "collapsed": false,
    "deletable": true,
    "editable": true
   },
   "outputs": [],
   "source": [
    "import os\n",
    "import urllib.request\n",
    "\n",
    "if(\"training_labels.txt\" not in os.listdir(\".\")):\n",
    "    print(\"Training labels are not in the root directory. Downloading...\")\n",
    "    urllib.request.urlretrieve(\"https://dl.dropboxusercontent.com/s/l0f9z08rysp0kjy/training_labels.txt\", \"training_labels.txt\")\n",
    "    print(\"Done.\")\n",
    "if(\"training_templates.csv\" not in os.listdir(\".\")):\n",
    "    print(\"Training data is not in the root directory. Downloading... this may take a while...\")\n",
    "    urllib.request.urlretrieve(\"https://dl.dropboxusercontent.com/s/dqudxed82ljnxa8/training_templates.csv\", \"training_templates.csv\")\n",
    "    print(\"Done.\")\n",
    "if(\"testing_templates.csv\" not in os.listdir(\".\")):\n",
    "    print(\"Testing data are not in the root directory. Downloading... this may take a while...\")\n",
    "    urllib.request.urlretrieve(\"https://dl.dropboxusercontent.com/s/syrry7miykrmjz0/testing_templates.csv\", \"testing_templates.csv\")\n",
    "    print(\"Done.\")\n",
    "\n",
    "import pandas as pd\n",
    "import numpy as np\n",
    "\n",
    "\n",
    "data = pd.read_csv(\"training_templates.csv\", header=None)\n",
    "X = np.array(data)\n",
    "y = np.loadtxt(\"training_labels.txt\")\n"
   ]
  },
  {
   "cell_type": "code",
   "execution_count": null,
   "metadata": {
    "collapsed": false,
    "deletable": true,
    "editable": true
   },
   "outputs": [
    {
     "name": "stdout",
     "output_type": "stream",
     "text": [
      "(Samples, features) =  (105600, 128)\n",
      "105600\n",
      "[-1.  1.]\n"
     ]
    }
   ],
   "source": [
    "print(\"(Samples, features) = \",X.shape, sep=\" \")\n",
    "print(len(y))\n",
    "print(np.unique(y))"
   ]
  },
  {
   "cell_type": "markdown",
   "metadata": {
    "deletable": true,
    "editable": true
   },
   "source": [
    "# Classification :"
   ]
  },
  {
   "cell_type": "code",
   "execution_count": null,
   "metadata": {
    "collapsed": false
   },
   "outputs": [
    {
     "name": "stdout",
     "output_type": "stream",
     "text": [
      "Fitting classifier\n"
     ]
    }
   ],
   "source": [
    "from sklearn.model_selection import train_test_split\n",
    "from sklearn import svm\n",
    "\n",
    "# Shuffling data\n",
    "permut = np.random.permutation(len(X))\n",
    "X,y = X[permut], y[permut]\n",
    "\n",
    "# Scaling data:\n",
    "X -= np.mean(X, axis=0)\n",
    "X /= np.std(X, axis=0)\n",
    "\n",
    "X_train, X_test, y_train, y_test = train_test_split(X, y, test_size=0.1)\n",
    "\n",
    "clf = svm.SVC()\n",
    "print(\"Fitting classifier...\")\n",
    "clf.fit(X_train, y_train)\n",
    "\n",
    "# Performance\n",
    "def compute_pred_score(y_true, y_pred):\n",
    "    y_pred_unq =  np.unique(y_pred)\n",
    "    for i in y_pred_unq:\n",
    "        if((i != -1) & (i!= 1) & (i!= 0) ):\n",
    "            raise ValueError('The predictions can contain only -1, 1, or 0!')\n",
    "    y_comp = y_true * y_pred\n",
    "    score = float(10*np.sum(y_comp == -1) + np.sum(y_comp == 0))\n",
    "    score /= y_comp.shape[0]\n",
    "    return score\n",
    "\n",
    "print(\"Predicting test samples...\")\n",
    "y_pred = clf.predict(X_test)\n",
    "\n",
    "s = compute_pred_score(y_test, y_pred)\n",
    "\n",
    "print(\"Score on %d samples: %f\" % len(y_pred), s)"
   ]
  },
  {
   "cell_type": "code",
   "execution_count": null,
   "metadata": {
    "collapsed": true
   },
   "outputs": [],
   "source": []
  }
 ],
 "metadata": {
  "kernelspec": {
   "display_name": "Python 3",
   "language": "python",
   "name": "python3"
  },
  "language_info": {
   "codemirror_mode": {
    "name": "ipython",
    "version": 3
   },
   "file_extension": ".py",
   "mimetype": "text/x-python",
   "name": "python",
   "nbconvert_exporter": "python",
   "pygments_lexer": "ipython3",
   "version": "3.5.2"
  }
 },
 "nbformat": 4,
 "nbformat_minor": 0
}
