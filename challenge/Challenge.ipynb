{
 "cells": [
  {
   "cell_type": "markdown",
   "metadata": {
    "deletable": true,
    "editable": true
   },
   "source": [
    "## Récupération des données"
   ]
  },
  {
   "cell_type": "code",
   "execution_count": 54,
   "metadata": {
    "collapsed": false,
    "deletable": true,
    "editable": true
   },
   "outputs": [],
   "source": [
    "import os\n",
    "import urllib.request\n",
    "\n",
    "if(\"training_labels.txt\" not in os.listdir(\".\")):\n",
    "    print(\"Training labels are not in the root directory. Downloading...\")\n",
    "    urllib.request.urlretrieve(\"https://dl.dropboxusercontent.com/s/l0f9z08rysp0kjy/training_labels.txt\", \"training_labels.txt\")\n",
    "    print(\"Done.\")\n",
    "if(\"training_templates.csv\" not in os.listdir(\".\")):\n",
    "    print(\"Training data is not in the root directory. Downloading... this may take a while...\")\n",
    "    urllib.request.urlretrieve(\"https://dl.dropboxusercontent.com/s/dqudxed82ljnxa8/training_templates.csv\", \"training_templates.csv\")\n",
    "    print(\"Done.\")\n",
    "if(\"testing_templates.csv\" not in os.listdir(\".\")):\n",
    "    print(\"Testing data are not in the root directory. Downloading... this may take a while...\")\n",
    "    urllib.request.urlretrieve(\"https://dl.dropboxusercontent.com/s/syrry7miykrmjz0/testing_templates.csv\", \"testing_templates.csv\")\n",
    "    print(\"Done.\")\n",
    "\n",
    "import pandas as pd\n",
    "import numpy as np\n",
    "\n",
    "\n",
    "data = pd.read_csv(\"training_templates.csv\", header=None)\n",
    "X = np.array(data)\n",
    "y = np.loadtxt(\"training_labels.txt\")\n",
    "\n",
    "ds = X,y #saving dataset"
   ]
  },
  {
   "cell_type": "code",
   "execution_count": 55,
   "metadata": {
    "collapsed": false,
    "deletable": true,
    "editable": true
   },
   "outputs": [
    {
     "name": "stdout",
     "output_type": "stream",
     "text": [
      "(Samples, features) =  (105600, 128)\n",
      "105600\n",
      "[-1.  1.]\n"
     ]
    }
   ],
   "source": [
    "print(\"(Samples, features) = \",X.shape, sep=\" \")\n",
    "print(len(y))\n",
    "print(np.unique(y))"
   ]
  },
  {
   "cell_type": "markdown",
   "metadata": {
    "deletable": true,
    "editable": true
   },
   "source": [
    "# Prédiction naïve"
   ]
  },
  {
   "cell_type": "code",
   "execution_count": 74,
   "metadata": {
    "collapsed": false
   },
   "outputs": [],
   "source": [
    "X,y = ds\n",
    "\n",
    "from sklearn.model_selection import train_test_split\n",
    "from sklearn.preprocessing import StandardScaler\n",
    "from sklearn.neighbors import KNeighborsClassifier\n",
    "from sklearn.svm import SVC\n",
    "from sklearn.decomposition import PCA\n",
    "from sklearn.tree import DecisionTreeClassifier\n",
    "\n",
    "# Shuffling data\n",
    "permut = np.random.permutation(len(X))\n",
    "X,y = X[permut], y[permut]\n",
    "\n",
    "X = StandardScaler().fit_transform(X)\n",
    "# # Diminishing number of features:\n",
    "# pca = PCA(n_components=0.5, svd_solver='full')\n",
    "# X = pca.fit_transform(X, y=y)\n",
    "# print(\"New shape:\",X.shape)\n",
    "# X = StandardScaler().fit_transform(X)\n"
   ]
  },
  {
   "cell_type": "code",
   "execution_count": 76,
   "metadata": {
    "collapsed": false,
    "deletable": true,
    "editable": true
   },
   "outputs": [
    {
     "name": "stdout",
     "output_type": "stream",
     "text": [
      "Fitting classifier...\n",
      "Predicting test samples...\n",
      "Computing score...\n",
      "Score on 10560 samples: 0.23390151515151514\n"
     ]
    }
   ],
   "source": [
    "X_train, X_test, y_train, y_test = train_test_split(X, y, test_size=0.1)\n",
    "\n",
    "clf = KNeighborsClassifier()\n",
    "print(\"Fitting classifier...\")\n",
    "clf.fit(X_train[:], y_train[:])\n",
    "\n",
    "# Performance\n",
    "def compute_pred_score(y_true, y_pred):\n",
    "    y_pred_unq =  np.unique(y_pred)\n",
    "    for i in y_pred_unq:\n",
    "        if((i != -1) & (i!= 1) & (i!= 0) ):\n",
    "            raise ValueError('The predictions can contain only -1, 1, or 0!')\n",
    "    y_comp = y_true * y_pred\n",
    "    score = float(10*np.sum(y_comp == -1) + np.sum(y_comp == 0))\n",
    "    score /= y_comp.shape[0]\n",
    "    return score\n",
    "\n",
    "print(\"Predicting test samples...\")\n",
    "y_pred = clf.predict(X_test)\n",
    "print(\"Computing score...\")\n",
    "s = compute_pred_score(y_test, y_pred)\n",
    "\n",
    "print(\"Score on\", len(y_pred), \"samples:\", s)"
   ]
  },
  {
   "cell_type": "code",
   "execution_count": 77,
   "metadata": {
    "collapsed": false,
    "deletable": true,
    "editable": true
   },
   "outputs": [
    {
     "name": "stdout",
     "output_type": "stream",
     "text": [
      "Predicting only confident results:\n"
     ]
    }
   ],
   "source": [
    "print(\"Predicting only confident results:\")\n",
    "T_pred = clf.predict_proba(X_test)\n"
   ]
  },
  {
   "cell_type": "code",
   "execution_count": 78,
   "metadata": {
    "collapsed": false,
    "deletable": true,
    "editable": true
   },
   "outputs": [
    {
     "name": "stdout",
     "output_type": "stream",
     "text": [
      "(10560, 2)\n",
      "Selecting the confidence threshold\n",
      "Confidence threshold: 0.0 score: 0.1434659090909091\n",
      "Confidence threshold: 0.0555555555556 score: 0.1434659090909091\n",
      "Confidence threshold: 0.111111111111 score: 0.1434659090909091\n",
      "Confidence threshold: 0.166666666667 score: 0.1434659090909091\n",
      "Confidence threshold: 0.222222222222 score: 0.14696969696969697\n",
      "Confidence threshold: 0.277777777778 score: 0.14696969696969697\n",
      "Confidence threshold: 0.333333333333 score: 0.14696969696969697\n",
      "Confidence threshold: 0.388888888889 score: 0.14696969696969697\n",
      "Confidence threshold: 0.444444444444 score: 0.23390151515151514\n",
      "Confidence threshold: 0.5 score: 0.23390151515151514\n",
      "[-1, -1, -1, -1, 1, 1, 1, 1, -1, -1, -1, -1, -1, 1, -1, 1, 1, -1, -1, 1, -1, -1, -1, -1, -1, -1, -1, 1, 1, 1]\n"
     ]
    }
   ],
   "source": [
    "print(T_pred.shape)\n",
    "# print(T_pred[0:30,...])\n",
    "# print(y_test[0:30])\n",
    "print(\"Selecting the confidence threshold\")\n",
    "for confidence in np.linspace(0,0.5,10):\n",
    "    y_pred = []\n",
    "    for (p1, p2) in T_pred:\n",
    "        if p1 <= confidence:\n",
    "            y_pred.append(1)\n",
    "        elif p2 <= confidence:\n",
    "            y_pred.append(-1)\n",
    "        else:\n",
    "            y_pred.append(0)\n",
    "\n",
    "    print(\"Confidence threshold:\", confidence, \"score:\", compute_pred_score(y_pred, y_test))\n",
    "\n",
    "print(y_pred[0:30])"
   ]
  },
  {
   "cell_type": "code",
   "execution_count": null,
   "metadata": {
    "collapsed": true
   },
   "outputs": [],
   "source": []
  },
  {
   "cell_type": "markdown",
   "metadata": {
    "collapsed": true,
    "deletable": true,
    "editable": true
   },
   "source": [
    "## Prédiction :"
   ]
  },
  {
   "cell_type": "code",
   "execution_count": 79,
   "metadata": {
    "collapsed": false,
    "deletable": true,
    "editable": true
   },
   "outputs": [
    {
     "name": "stdout",
     "output_type": "stream",
     "text": [
      "Predicting for the unknown dataset\n",
      "(8496, 2)\n",
      "Selecting the best results\n",
      "[-1  0  1]\n",
      "Unsure predictions:  2439 / 8496\n",
      "Selecting the best results\n",
      "[-1  0  1]\n",
      "Unsure predictions:  2439 / 8496\n",
      "Selecting the best results\n",
      "[-1  0  1]\n",
      "Unsure predictions:  2439 / 8496\n",
      "Selecting the best results\n",
      "[-1  0  1]\n",
      "Unsure predictions:  2439 / 8496\n",
      "Selecting the best results\n",
      "[-1  0  1]\n",
      "Unsure predictions:  2439 / 8496\n",
      "Selecting the best results\n",
      "[-1  0  1]\n",
      "Unsure predictions:  2439 / 8496\n",
      "Selecting the best results\n",
      "[-1  0  1]\n",
      "Unsure predictions:  2439 / 8496\n",
      "Selecting the best results\n",
      "[-1  0  1]\n",
      "Unsure predictions:  2439 / 8496\n",
      "Selecting the best results\n",
      "[-1  0  1]\n",
      "Unsure predictions:  2439 / 8496\n",
      "Selecting the best results\n",
      "[-1  0  1]\n",
      "Unsure predictions:  892 / 8496\n",
      "Selecting the best results\n",
      "[-1  0  1]\n",
      "Unsure predictions:  892 / 8496\n",
      "Selecting the best results\n",
      "[-1  0  1]\n",
      "Unsure predictions:  892 / 8496\n",
      "Selecting the best results\n",
      "[-1  0  1]\n",
      "Unsure predictions:  892 / 8496\n",
      "Selecting the best results\n",
      "[-1  0  1]\n",
      "Unsure predictions:  892 / 8496\n",
      "Selecting the best results\n",
      "[-1  0  1]\n",
      "Unsure predictions:  892 / 8496\n",
      "Selecting the best results\n",
      "[-1  0  1]\n",
      "Unsure predictions:  892 / 8496\n",
      "Selecting the best results\n",
      "[-1  0  1]\n",
      "Unsure predictions:  892 / 8496\n",
      "Selecting the best results\n",
      "[-1  1]\n",
      "Unsure predictions:  0 / 8496\n",
      "Selecting the best results\n",
      "[-1  1]\n",
      "Unsure predictions:  0 / 8496\n",
      "Selecting the best results\n",
      "[-1  1]\n",
      "Unsure predictions:  0 / 8496\n"
     ]
    }
   ],
   "source": [
    "testing = pd.read_csv(\"testing_templates.csv\", header=None)\n",
    "X_unknown = np.array(testing)\n",
    "# print(\"Before dim reduction:\",X_unknown.shape)\n",
    "# X_unknown = pca.transform(X_unknown)\n",
    "# print(\"After dim reduction:\",X_unknown.shape)\n",
    "X_unknown = StandardScaler().fit_transform(X_unknown)\n",
    "print(\"Predicting for the unknown dataset\")\n",
    "T_pred = clf.predict_proba(X_unknown)\n",
    "print(T_pred.shape)\n",
    "# print(T_pred[0:30,...])\n",
    "# print(T_pred[-30:,...])\n",
    "for confidence in np.linspace(0.01, 0.45, 20):\n",
    "    y_pred = []\n",
    "    unsure = 0\n",
    "    print(\"Selecting the best results with threshold = \",confidence)\n",
    "    for proba in T_pred:\n",
    "        p1, p2 = proba[0], proba[1]\n",
    "        if p1 <= confidence:\n",
    "            y_pred.append(1)\n",
    "        elif p2 <= confidence:\n",
    "            y_pred.append(-1)\n",
    "        else:\n",
    "    #         print(\"Not sure for sample\", len(y_pred))\n",
    "            y_pred.append(0)\n",
    "            unsure += 1\n",
    "    print(np.unique(y_pred))\n",
    "    print(\"Unsure predictions: \", unsure,\"/\",len(y_pred))\n",
    "    np.savetxt('y_pred'+str(confidence)+'.txt', y_pred, fmt='%d')"
   ]
  },
  {
   "cell_type": "code",
   "execution_count": 80,
   "metadata": {
    "collapsed": true,
    "deletable": true,
    "editable": true
   },
   "outputs": [],
   "source": [
    "np.savetxt('y_pred.txt', y_pred, fmt='%d')"
   ]
  },
  {
   "cell_type": "code",
   "execution_count": 81,
   "metadata": {
    "collapsed": true,
    "deletable": true,
    "editable": true
   },
   "outputs": [],
   "source": [
    "#TODO: Réduire dimensions\n"
   ]
  },
  {
   "cell_type": "code",
   "execution_count": 82,
   "metadata": {
    "collapsed": true
   },
   "outputs": [],
   "source": [
    "#TODO: Essayer avec Gaussian Naive Bayes"
   ]
  },
  {
   "cell_type": "code",
   "execution_count": 83,
   "metadata": {
    "collapsed": false
   },
   "outputs": [
    {
     "name": "stdout",
     "output_type": "stream",
     "text": [
      "8496\n"
     ]
    }
   ],
   "source": [
    "print(len(y_pred))"
   ]
  },
  {
   "cell_type": "code",
   "execution_count": null,
   "metadata": {
    "collapsed": true
   },
   "outputs": [],
   "source": []
  }
 ],
 "metadata": {
  "kernelspec": {
   "display_name": "Python 3",
   "language": "python",
   "name": "python3"
  },
  "language_info": {
   "codemirror_mode": {
    "name": "ipython",
    "version": 3
   },
   "file_extension": ".py",
   "mimetype": "text/x-python",
   "name": "python",
   "nbconvert_exporter": "python",
   "pygments_lexer": "ipython3",
   "version": "3.5.2"
  }
 },
 "nbformat": 4,
 "nbformat_minor": 0
}
