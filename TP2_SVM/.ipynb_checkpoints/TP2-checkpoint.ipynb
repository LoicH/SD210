{
 "cells": [
  {
   "cell_type": "markdown",
   "metadata": {},
   "source": [
    "Loïc Herbelot\n",
    "\n",
    "# TP 2 : SVM\n",
    "\n",
    "## Question 1) Classification linéaire des données `iris`"
   ]
  },
  {
   "cell_type": "code",
   "execution_count": 11,
   "metadata": {
    "collapsed": false
   },
   "outputs": [],
   "source": [
    "# -*- coding: utf-8 -*-\n",
    "\"\"\"\n",
    "@author: Loïc Herbelot\n",
    "\"\"\"\n",
    "\n",
    "from sklearn import datasets\n",
    "from sklearn.svm import SVC\n",
    "import numpy as np\n",
    "from sklearn.model_selection import train_test_split\n",
    "from sklearn.svm import SVC\n",
    "import numpy as np\n",
    "from sklearn.model_selection import train_test_split\n",
    "\n",
    "iris = datasets.load_iris()\n",
    "\n",
    "\"\"\"This data sets consists of 3 different types of irises’ \n",
    "(Setosa, Versicolour, and Virginica) petal and sepal length, \n",
    "stored in a 150x4 numpy.ndarray\n",
    "The rows being the samples and the columns being: \n",
    "Sepal Length, Sepal Width, Petal Length and Petal Width.\"\"\"\n",
    "\n",
    "\n",
    "X = iris.data\n",
    "y = iris.target\n",
    "\n",
    "#We only want classes 1 & 2, and consider only the first 2 features.\n",
    "X = X[y != 0, :2]\n",
    "y = y[y != 0]\n",
    "\n",
    "#Shuffling the data:\n",
    "permutation = np.random.permutation(len(X))\n",
    "X = X[permutation]\n",
    "y = y[permutation]\n",
    "\n",
    "X_train, X_test, y_train, y_test = train_test_split(\n",
    "    X, y, test_size=0.5)"
   ]
  },
  {
   "cell_type": "code",
   "execution_count": 12,
   "metadata": {
    "collapsed": false,
    "scrolled": false
   },
   "outputs": [
    {
     "name": "stdout",
     "output_type": "stream",
     "text": [
      "Score with linear kernel: 0.72\n"
     ]
    }
   ],
   "source": [
    "# fit the model with linear kernel\n",
    "clf_lin = SVC(kernel='linear')\n",
    "clf_lin.fit(X_train, y_train)\n",
    "\n",
    "# predict labels for the test data base\n",
    "y_pred = clf_lin.predict(X_test)\n",
    "\n",
    "# check your score\n",
    "score = clf_lin.score(X_test, y_test)\n",
    "print('Score with linear kernel: %s' % score)"
   ]
  },
  {
   "cell_type": "markdown",
   "metadata": {},
   "source": [
    "## Question 2) Classification polynomiale "
   ]
  },
  {
   "cell_type": "code",
   "execution_count": 13,
   "metadata": {
    "collapsed": false
   },
   "outputs": [
    {
     "name": "stdout",
     "output_type": "stream",
     "text": [
      "Score with polynomial kernel: 0.7\n"
     ]
    }
   ],
   "source": [
    "clf_poly = SVC(kernel='poly')\n",
    "clf_poly.fit(X_train, y_train)\n",
    "\n",
    "# predict labels for the test data base\n",
    "y_pred = clf_poly.predict(X_test)\n",
    "\n",
    "# check your score\n",
    "score = clf_poly.score(X_test, y_test)\n",
    "print('Score with polynomial kernel: %s' % score)"
   ]
  },
  {
   "cell_type": "markdown",
   "metadata": {},
   "source": [
    "## Question 3) Réécriture du problème primal :\n",
    "\n",
    "Dans le problème primal, on a les contraintes :\n",
    "\n",
    "$\\xi_i \\ge 0$ et $\\xi_i \\ge 1 - y_i(w \\cdot \\Phi(x_i) + w_0)$\n",
    "\n",
    "Ainsi $\\xi_i \\ge max(0, 1 - y_i(w \\cdot \\Phi(x_i) + w_0))$\n",
    "\n",
    "Donc $\\xi_i = [1 - y_i(w \\cdot \\Phi(x_i) + w_0)]_+$\n",
    "\n",
    "D'où la réécriture du problème primal."
   ]
  },
  {
   "cell_type": "markdown",
   "metadata": {
    "collapsed": true
   },
   "source": [
    "## Question 4) Explication du SVM\n",
    "\n",
    "Si après avoir trouvé le vecteur $w$, on a une erreur de prédiction sur le point $x_i$, alors la marge qui vaut $marge_i = y_i(w \\cdot \\Phi(x_i) + w_0)$ est négative, ainsi $\\xi_i = 1 - marge_i \\ge 1$.\n",
    "\n",
    "Sinon, si la prédiction est correcte, la marge est positive et $\\xi_i = 0$.\n",
    "\n",
    "Ainsi il nous faudrait une fonction qui représente l'erreur de classification, qui vaut au moins 1 quand la marge est négative (cas d'erreur), et 0 quand la marge est positive (prédiction correcte).\n",
    "\n",
    "Pour que les calculs soient plus pratiques, cette fonction est convexe.\n",
    "\n",
    "La fonction charnière (*hinge*) correspond aux caractéristiques voulues, et le SVM tente de minimiser l'image de cette fonction."
   ]
  },
  {
   "cell_type": "markdown",
   "metadata": {},
   "source": [
    "## SVM GUI avec des classes déséquilibrées :\n",
    "\n",
    "### Avec $C=1$\n",
    "![title](svm_gui1.png)\n",
    "\n",
    "### Avec $C=0.001$\n",
    "![title](svm_gui001.png)\n",
    "### Avec $C=0.00001$\n",
    "![title](svm_gui00001.png)\n",
    "\n",
    "On voit que lorsque le paramètre de régularisation $C$ devient très fabible, la classe la plus représentée \"écrase\" l'autre classe."
   ]
  },
  {
   "cell_type": "markdown",
   "metadata": {},
   "source": [
    "## Question 5) Classification de visage, influence du paramètre de régularisation"
   ]
  },
  {
   "cell_type": "code",
   "execution_count": 58,
   "metadata": {
    "collapsed": false,
    "scrolled": false
   },
   "outputs": [
    {
     "name": "stdout",
     "output_type": "stream",
     "text": [
      "Available names: ['George W Bush', 'Hugo Chavez', 'Donald Rumsfeld', 'Gerhard Schroeder', 'Ariel Sharon', 'Colin Powell', 'Tony Blair']\n"
     ]
    }
   ],
   "source": [
    "from sklearn.svm import SVC\n",
    "import numpy as np\n",
    "from sklearn.model_selection import train_test_split, GridSearchCV\n",
    "from os import listdir\n",
    "import cv2\n",
    "\n",
    "# to change if the image folder is elsewhere:\n",
    "faces_path = \"lfw/\"\n",
    "\n",
    "available_names = listdir(faces_path)\n",
    "print(\"Available names: %s\" % available_names)"
   ]
  },
  {
   "cell_type": "code",
   "execution_count": 78,
   "metadata": {
    "collapsed": false
   },
   "outputs": [
    {
     "data": {
      "text/plain": [
       "GridSearchCV(cv=None, error_score='raise',\n",
       "       estimator=SVC(C=1, cache_size=200, class_weight=None, coef0=0.0,\n",
       "  decision_function_shape=None, degree=3, gamma='auto', kernel='rbf',\n",
       "  max_iter=-1, probability=False, random_state=None, shrinking=True,\n",
       "  tol=0.001, verbose=False),\n",
       "       fit_params={}, iid=True, n_jobs=1,\n",
       "       param_grid={'kernel': ['linear'], 'C': array([  1.00000e-05,   1.29155e-04,   1.66810e-03,   2.15443e-02,\n",
       "         2.78256e-01,   3.59381e+00,   4.64159e+01,   5.99484e+02,\n",
       "         7.74264e+03,   1.00000e+05])},\n",
       "       pre_dispatch='2*n_jobs', refit=True, return_train_score=True,\n",
       "       scoring=None, verbose=0)"
      ]
     },
     "execution_count": 78,
     "metadata": {},
     "output_type": "execute_result"
    }
   ],
   "source": [
    "names = [available_names[0], available_names[2]]\n",
    "\n",
    "# Selecting all the images we can\n",
    "images0 = [faces_path + names[0] + \"/\" + f for f in listdir(faces_path + names[0])]\n",
    "images1 = [faces_path + names[1] + \"/\" + f for f in listdir(faces_path + names[1])]\n",
    "# Selecting the same number of images for each person:\n",
    "min_files = min(len(images0), len(images1))\n",
    "images0 = images0[:min_files]\n",
    "images1 = images1[:min_files]\n",
    "\n",
    "filenames = np.array(images0 + images1)\n",
    "y = np.array(min_files * [-1] + min_files * [+1])\n",
    "X = []\n",
    "for f in filenames:\n",
    "    img = cv2.imread(f, cv2.IMREAD_GRAYSCALE) #matrix of grey values\n",
    "    X.append(img.reshape(len(img)*len(img[0])))\n",
    "X = np.array(X)\n",
    "\n",
    "# Shuffling the data:\n",
    "permutation = np.random.permutation(2*min_files)\n",
    "filenames = filenames[permutation]\n",
    "y = y[permutation]\n",
    "X = X[permutation]\n",
    "\n",
    "X_train, X_test, y_train, y_test, filenames_train, filenames_test = train_test_split(\n",
    "    X, y, filenames, test_size=0.25)\n",
    "\n",
    "clf2 = GridSearchCV(SVC(C=1), {'C':np.logspace(-5, 5, num=10), 'kernel':['linear']})\n",
    "clf2.fit(X_train, y_train)\n",
    "\n"
   ]
  },
  {
   "cell_type": "code",
   "execution_count": 80,
   "metadata": {
    "collapsed": false
   },
   "outputs": [
    {
     "name": "stdout",
     "output_type": "stream",
     "text": [
      "std_train_score: [ 0.  0.  0.  0.  0.  0.  0.  0.  0.  0.]\n",
      "\n",
      "rank_test_score: [1 1 1 1 1 1 1 1 1 1]\n",
      "\n",
      "mean_score_time: [ 0.07373754  0.07249475  0.07292231  0.07512967  0.07411075  0.0729243\n",
      "  0.07220523  0.07329901  0.07298795  0.07207545]\n",
      "\n",
      "std_test_score: [ 0.01900312  0.01900312  0.01900312  0.01900312  0.01900312  0.01900312\n",
      "  0.01900312  0.01900312  0.01900312  0.01900312]\n",
      "\n",
      "split1_train_score: [ 1.  1.  1.  1.  1.  1.  1.  1.  1.  1.]\n",
      "\n",
      "split0_test_score: [ 0.68852459  0.68852459  0.68852459  0.68852459  0.68852459  0.68852459\n",
      "  0.68852459  0.68852459  0.68852459  0.68852459]\n",
      "\n",
      "mean_test_score: [ 0.70718232  0.70718232  0.70718232  0.70718232  0.70718232  0.70718232\n",
      "  0.70718232  0.70718232  0.70718232  0.70718232]\n",
      "\n",
      "param_C: [1.0000000000000001e-05 0.00012915496650148841 0.0016681005372000592\n",
      " 0.021544346900318846 0.27825594022071259 3.5938136638046259\n",
      " 46.415888336127821 599.48425031894214 7742.6368268112774 100000.0]\n",
      "\n",
      "split2_train_score: [ 1.  1.  1.  1.  1.  1.  1.  1.  1.  1.]\n",
      "\n",
      "split0_train_score: [ 1.  1.  1.  1.  1.  1.  1.  1.  1.  1.]\n",
      "\n",
      "params: ({'kernel': 'linear', 'C': 1.0000000000000001e-05}, {'kernel': 'linear', 'C': 0.00012915496650148841}, {'kernel': 'linear', 'C': 0.0016681005372000592}, {'kernel': 'linear', 'C': 0.021544346900318846}, {'kernel': 'linear', 'C': 0.27825594022071259}, {'kernel': 'linear', 'C': 3.5938136638046259}, {'kernel': 'linear', 'C': 46.415888336127821}, {'kernel': 'linear', 'C': 599.48425031894214}, {'kernel': 'linear', 'C': 7742.6368268112774}, {'kernel': 'linear', 'C': 100000.0})\n",
      "\n",
      "std_fit_time: [ 0.00786012  0.00493273  0.00491538  0.00619647  0.00059583  0.00395449\n",
      "  0.00520676  0.00031179  0.0033749   0.00384829]\n",
      "\n",
      "std_score_time: [ 0.00140245  0.00257202  0.00342562  0.00302129  0.00294756  0.00407893\n",
      "  0.00369647  0.00340935  0.00264011  0.00342766]\n",
      "\n",
      "split2_test_score: [ 0.73333333  0.73333333  0.73333333  0.73333333  0.73333333  0.73333333\n",
      "  0.73333333  0.73333333  0.73333333  0.73333333]\n",
      "\n",
      "mean_train_score: [ 1.  1.  1.  1.  1.  1.  1.  1.  1.  1.]\n",
      "\n",
      "mean_fit_time: [ 0.17688537  0.17898432  0.17257174  0.17715073  0.17600393  0.17731905\n",
      "  0.17747974  0.17480135  0.17649142  0.17394058]\n",
      "\n",
      "param_kernel: ['linear' 'linear' 'linear' 'linear' 'linear' 'linear' 'linear' 'linear'\n",
      " 'linear' 'linear']\n",
      "\n",
      "split1_test_score: [ 0.7  0.7  0.7  0.7  0.7  0.7  0.7  0.7  0.7  0.7]\n",
      "\n",
      "[ 0.70718232  0.70718232  0.70718232  0.70718232  0.70718232  0.70718232\n",
      "  0.70718232  0.70718232  0.70718232  0.70718232]\n",
      "{'kernel': 'linear', 'C': 1.0000000000000001e-05}\n"
     ]
    }
   ],
   "source": [
    "for k,v in clf.cv_results_.iteritems():\n",
    "    print(\"%s: %s\\n\" % (k,v))\n",
    "print clf.cv_results_['mean_test_score']\n",
    "print clf.best_params_"
   ]
  },
  {
   "cell_type": "code",
   "execution_count": null,
   "metadata": {
    "collapsed": true
   },
   "outputs": [],
   "source": []
  }
 ],
 "metadata": {
  "kernelspec": {
   "display_name": "Python 2",
   "language": "python",
   "name": "python2"
  },
  "language_info": {
   "codemirror_mode": {
    "name": "ipython",
    "version": 2
   },
   "file_extension": ".py",
   "mimetype": "text/x-python",
   "name": "python",
   "nbconvert_exporter": "python",
   "pygments_lexer": "ipython2",
   "version": "2.7.9"
  }
 },
 "nbformat": 4,
 "nbformat_minor": 2
}
