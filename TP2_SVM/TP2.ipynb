{
 "metadata": {
  "kernelspec": {
   "display_name": "Python 2",
   "language": "python",
   "name": "python2"
  },
  "language_info": {
   "codemirror_mode": {
    "name": "ipython",
    "version": 2
   },
   "file_extension": ".py",
   "mimetype": "text/x-python",
   "name": "python",
   "nbconvert_exporter": "python",
   "pygments_lexer": "ipython2",
   "version": "2.7.9"
  },
  "name": "",
  "signature": "sha256:85119b41576d58e51b11d67b909fbbf5028d5871db75d1d42c65a8f958325b59"
 },
 "nbformat": 3,
 "nbformat_minor": 0,
 "worksheets": [
  {
   "cells": [
    {
     "cell_type": "markdown",
     "metadata": {},
     "source": [
      "Lo\u00efc Herbelot\n",
      "\n",
      "# TP 2 : SVM\n",
      "\n",
      "## Question 1) Classification lin\u00e9aire des donn\u00e9es `iris`"
     ]
    },
    {
     "cell_type": "code",
     "collapsed": false,
     "input": [
      "# -*- coding: utf-8 -*-\n",
      "\"\"\"\n",
      "@author: Lo\u00efc Herbelot\n",
      "\"\"\"\n",
      "\n",
      "from sklearn import datasets\n",
      "from sklearn.svm import SVC\n",
      "import numpy as np\n",
      "from sklearn.model_selection import train_test_split\n",
      "from sklearn.svm import SVC\n",
      "import numpy as np\n",
      "from sklearn.model_selection import train_test_split\n",
      "\n",
      "iris = datasets.load_iris()\n",
      "\n",
      "\"\"\"This data sets consists of 3 different types of irises\u2019 \n",
      "(Setosa, Versicolour, and Virginica) petal and sepal length, \n",
      "stored in a 150x4 numpy.ndarray\n",
      "The rows being the samples and the columns being: \n",
      "Sepal Length, Sepal Width, Petal Length and Petal Width.\"\"\"\n",
      "\n",
      "\n",
      "X = iris.data\n",
      "y = iris.target\n",
      "\n",
      "#We only want classes 1 & 2, and consider only the first 2 features.\n",
      "X = X[y != 0, :2]\n",
      "y = y[y != 0]\n",
      "\n",
      "#Shuffling the data:\n",
      "permutation = np.random.permutation(len(X))\n",
      "X = X[permutation]\n",
      "y = y[permutation]\n",
      "\n",
      "X_train, X_test, y_train, y_test = train_test_split(\n",
      "    X, y, test_size=0.5)"
     ],
     "language": "python",
     "metadata": {},
     "outputs": [],
     "prompt_number": 98
    },
    {
     "cell_type": "code",
     "collapsed": false,
     "input": [
      "# fit the model with linear kernel\n",
      "clf_lin = SVC(kernel='linear')\n",
      "clf_lin.fit(X_train, y_train)\n",
      "\n",
      "# predict labels for the test data base\n",
      "y_pred = clf_lin.predict(X_test)\n",
      "\n",
      "# check your score\n",
      "score = clf_lin.score(X_test, y_test)\n",
      "print('Score with linear kernel: %s' % score)"
     ],
     "language": "python",
     "metadata": {
      "scrolled": false
     },
     "outputs": [
      {
       "output_type": "stream",
       "stream": "stdout",
       "text": [
        "Score with linear kernel: 0.74\n"
       ]
      }
     ],
     "prompt_number": 99
    },
    {
     "cell_type": "heading",
     "level": 2,
     "metadata": {},
     "source": [
      "Question 2) Classification polynomiale "
     ]
    },
    {
     "cell_type": "code",
     "collapsed": false,
     "input": [
      "clf_poly = SVC(kernel='poly')\n",
      "clf_poly.fit(X_train, y_train)\n",
      "\n",
      "# predict labels for the test data base\n",
      "y_pred = clf_poly.predict(X_test)\n",
      "\n",
      "# check your score\n",
      "score = clf_poly.score(X_test, y_test)\n",
      "print('Score with polynomial kernel: %s' % score)"
     ],
     "language": "python",
     "metadata": {},
     "outputs": [
      {
       "output_type": "stream",
       "stream": "stdout",
       "text": [
        "Score with polynomial kernel: 0.72\n"
       ]
      }
     ],
     "prompt_number": 100
    },
    {
     "cell_type": "markdown",
     "metadata": {},
     "source": [
      "## Question 3) R\u00e9\u00e9criture du probl\u00e8me primal :\n",
      "\n",
      "Dans le probl\u00e8me primal, on a les contraintes :\n",
      "\n",
      "$\\xi_i \\ge 0$ et $\\xi_i \\ge 1 - y_i(w \\cdot \\Phi(x_i) + w_0)$\n",
      "\n",
      "Ainsi $\\xi_i \\ge max(0, 1 - y_i(w \\cdot \\Phi(x_i) + w_0))$\n",
      "\n",
      "Donc $\\xi_i = [1 - y_i(w \\cdot \\Phi(x_i) + w_0)]_+$\n",
      "\n",
      "D'o\u00f9 la r\u00e9\u00e9criture du probl\u00e8me primal."
     ]
    },
    {
     "cell_type": "markdown",
     "metadata": {
      "collapsed": true
     },
     "source": [
      "## Question 4) Explication du SVM\n",
      "\n",
      "Si apr\u00e8s avoir trouv\u00e9 le vecteur $w$, on a une erreur de pr\u00e9diction sur le point $x_i$, alors la marge qui vaut $marge_i = y_i(w \\cdot \\Phi(x_i) + w_0)$ est n\u00e9gative, ainsi $\\xi_i = 1 - marge_i \\ge 1$.\n",
      "\n",
      "Sinon, si la pr\u00e9diction est correcte, la marge est positive et $\\xi_i = 0$.\n",
      "\n",
      "Ainsi il nous faudrait une fonction qui repr\u00e9sente l'erreur de classification, qui vaut au moins 1 quand la marge est n\u00e9gative (cas d'erreur), et 0 quand la marge est positive (pr\u00e9diction correcte).\n",
      "\n",
      "Pour que les calculs soient plus pratiques, cette fonction est convexe.\n",
      "\n",
      "La fonction charni\u00e8re (*hinge*) correspond aux caract\u00e9ristiques voulues, et le SVM tente de minimiser l'image de cette fonction."
     ]
    },
    {
     "cell_type": "markdown",
     "metadata": {},
     "source": [
      "## SVM GUI avec des classes d\u00e9s\u00e9quilibr\u00e9es :\n",
      "\n",
      "### Avec $C=1$\n",
      "![title](svm_gui1.png)\n",
      "\n",
      "### Avec $C=0.001$\n",
      "![title](svm_gui001.png)\n",
      "### Avec $C=0.00001$\n",
      "![title](svm_gui00001.png)\n",
      "\n",
      "On voit que lorsque le param\u00e8tre de r\u00e9gularisation $C$ devient tr\u00e8s faible, la classe la plus repr\u00e9sent\u00e9e \"\u00e9crase\" l'autre classe."
     ]
    },
    {
     "cell_type": "heading",
     "level": 2,
     "metadata": {},
     "source": [
      "Question 5) Classification de visage, influence du param\u00e8tre de r\u00e9gularisation"
     ]
    },
    {
     "cell_type": "code",
     "collapsed": false,
     "input": [
      "from sklearn.svm import SVC\n",
      "import numpy as np\n",
      "from sklearn.model_selection import train_test_split, GridSearchCV\n",
      "from os import listdir\n",
      "import cv2\n",
      "\n",
      "# to change if the image folder is elsewhere:\n",
      "faces_path = \"lfw/\"\n",
      "\n",
      "available_names = listdir(faces_path)\n",
      "print(\"Available names: %s\" % available_names)"
     ],
     "language": "python",
     "metadata": {
      "scrolled": false
     },
     "outputs": [
      {
       "output_type": "stream",
       "stream": "stdout",
       "text": [
        "Available names: ['Ariel Sharon', 'Colin Powell', 'Donald Rumsfeld', 'George W Bush', 'Gerhard Schroeder', 'Hugo Chavez', 'Tony Blair']\n"
       ]
      }
     ],
     "prompt_number": 101
    },
    {
     "cell_type": "code",
     "collapsed": false,
     "input": [
      "import random\n",
      "names = random.sample(available_names, 2)\n",
      "\n",
      "print(\"Faces selected: %s\" % names)\n",
      "\n",
      "# Selecting all the images we can\n",
      "images0 = [faces_path + names[0] + \"/\" + f for f in listdir(faces_path + names[0])]\n",
      "images1 = [faces_path + names[1] + \"/\" + f for f in listdir(faces_path + names[1])]\n",
      "# Selecting the same number of images for each person:\n",
      "min_files = min(len(images0), len(images1))\n",
      "print(\"Number of files selected : %s for each face.\" % min_files)\n",
      "images0 = images0[:min_files]\n",
      "images1 = images1[:min_files]\n",
      "\n",
      "filenames = np.array(images0 + images1)\n",
      "y = np.array(min_files * [0] + min_files * [+1])\n",
      "X = []\n",
      "for f in filenames:\n",
      "    img = cv2.imread(f, cv2.IMREAD_GRAYSCALE) #matrix of grey values\n",
      "    X.append(img.reshape(len(img)*len(img[0])))\n",
      "X = np.array(X, dtype='float64')\n",
      "\n",
      "# Shuffling the data:\n",
      "permutation = np.random.permutation(2*min_files)\n",
      "filenames = filenames[permutation]\n",
      "y = y[permutation]\n",
      "X = X[permutation]\n",
      "\n",
      "\n",
      "# Scale features\n",
      "X -= np.mean(X, axis=0)\n",
      "X /= np.std(X, axis=0)\n",
      "\n",
      "X_train, X_test, y_train, y_test, filenames_train, filenames_test = train_test_split(\n",
      "    X, y, filenames, test_size=0.25)\n",
      "\n"
     ],
     "language": "python",
     "metadata": {},
     "outputs": [
      {
       "output_type": "stream",
       "stream": "stdout",
       "text": [
        "Faces selected: ['Tony Blair', 'Donald Rumsfeld']\n",
        "Number of files selected : 121 for each face.\n"
       ]
      }
     ],
     "prompt_number": 102
    },
    {
     "cell_type": "code",
     "collapsed": false,
     "input": [
      "import matplotlib.pyplot as plt\n",
      "%matplotlib inline\n",
      "\n",
      "# To be changed by the user:\n",
      "low_exp  = -6\n",
      "high_exp = 0\n",
      "points   = 20\n",
      "# Plot `points` points from 1^(`low_exp`) to 1^(`high_exp`) \n",
      "\n",
      "clf_face_lin = GridSearchCV(SVC(C=1), {'C':np.logspace(low_exp, high_exp, num=points), 'kernel':['linear']}, n_jobs=2)\n",
      "clf_face_lin.fit(X_train, y_train)\n",
      "\n",
      "C_params = [param['C'] for param in clf_face_lin.cv_results_['params']]\n",
      "error   = 100 - 100*clf_face_lin.cv_results_['mean_test_score']\n",
      "    \n",
      "ax = plt.gca()\n",
      "ax.scatter(C_params, error)\n",
      "ax.set_xscale('log')\n",
      "ax.set_xlim(np.min(C_params)/10, np.max(C_params)*10)\n",
      "plt.title(\"Influence of penalty parameter\")\n",
      "plt.ylabel(\"Error percentage\")\n",
      "plt.xlabel(\"Penalty parameter\")\n"
     ],
     "language": "python",
     "metadata": {},
     "outputs": [
      {
       "metadata": {},
       "output_type": "pyout",
       "prompt_number": 103,
       "text": [
        "<matplotlib.text.Text at 0x7fc3ac015ad0>"
       ]
      },
      {
       "metadata": {},
       "output_type": "display_data",
       "png": "[encoded data removed]",
       "text": [
        "<matplotlib.figure.Figure at 0x7fc3aced4ed0>"
       ]
      }
     ],
     "prompt_number": 103
    },
    {
     "cell_type": "markdown",
     "metadata": {},
     "source": [
      "## Question 6) Influence de variables de nuisances.\n",
      "\n",
      "On va rajouter dans chaque vecteur image des *features* al\u00e9atoires au m\u00eame endroit dans chaque vecteur."
     ]
    },
    {
     "cell_type": "code",
     "collapsed": false,
     "input": [
      "# To be changed by the user:\n",
      "high_exp = 4\n",
      "# This cell will test up to 10^`high_exp` parasitic variables\n",
      "\n",
      "from IPython import display\n",
      "\n",
      "\n",
      "X_true = X\n",
      "scores = []\n",
      "parasites_values = np.logspace(0,high_exp, num=15, dtype='int')\n",
      "\n",
      "for n_parasite in parasites_values:\n",
      "    X = X_true # Resetting X\n",
      "    #Inserting random vectors:\n",
      "    parasite = np.random.normal(0,1, size=(2*min_files, n_parasite))\n",
      "    X = np.insert(X, np.random.randint(0, 100*100, n_parasite), parasite, axis=1)\n",
      "\n",
      "    X_train, X_test, y_train, y_test, filenames_train, filenames_test = train_test_split(\n",
      "        X, y, filenames, test_size=0.25)\n",
      "\n",
      "\n",
      "    # fit the model with linear kernel\n",
      "    clf_parasite = SVC(kernel='linear')\n",
      "    clf_parasite.fit(X_train, y_train)\n",
      "\n",
      "    # predict labels for the test data base\n",
      "    y_pred = clf_parasite.predict(X_test)\n",
      "\n",
      "    # display score\n",
      "    score = 100*clf_parasite.score(X_test, y_test)\n",
      "    scores.append(score)\n",
      "    \n",
      "    display.clear_output()\n",
      "    ax = plt.gca()\n",
      "    ax.set_xscale('log')\n",
      "    plt.xlim(np.min(parasites_values)/10., np.max(parasites_values)*10)\n",
      "    plt.ylim(-1, 101)\n",
      "    plt.title(\"Influence of parasitic features\")\n",
      "    plt.ylabel(\"Score percentage\")\n",
      "    plt.xlabel(\"Number of parasitic features\")\n",
      "    ax.scatter(parasites_values[:len(scores)], scores)\n",
      "    plt.show()\n",
      "    #debug:\n",
      "#     print('Score with %s (%s%%) parasitic features: %s' % (n_parasite, n_parasite*100./(100*100), score))\n",
      "    \n",
      "print(\"Done.\")\n",
      "\n",
      "#resetting X:\n",
      "X = X_true"
     ],
     "language": "python",
     "metadata": {},
     "outputs": [
      {
       "metadata": {},
       "output_type": "display_data",
       "png": "[encoded data removed]",
       "text": [
        "<matplotlib.figure.Figure at 0x7fc3ac542f50>"
       ]
      },
      {
       "output_type": "stream",
       "stream": "stdout",
       "text": [
        "Done.\n"
       ]
      }
     ],
     "prompt_number": 104
    },
    {
     "cell_type": "markdown",
     "metadata": {},
     "source": [
      "La performance est influenc\u00e9e par les variables explicatives, mais le classifieur arrive assez bien \u00e0 \"rep\u00e9rer\" les variables inutiles."
     ]
    },
    {
     "cell_type": "markdown",
     "metadata": {},
     "source": [
      "## Question 7) Expliquer pourquoi les *features* sont centr\u00e9es et r\u00e9duites\n",
      "\n",
      "La documentation de `sklearn.svm` pr\u00e9conise de centrer et r\u00e9duire les variables explicatives :\n",
      "\n",
      ">Support Vector Machine algorithms are not scale invariant, so it is highly recommended to scale your data. For example, scale each attribute on the input vector X to [0,1] or [-1,+1], or standardize it to have mean 0 and variance 1. Note that the same scaling must be applied to the test vector to obtain meaningful results. See section Preprocessing data for more details on scaling and normalization.\n"
     ]
    },
    {
     "cell_type": "markdown",
     "metadata": {},
     "source": [
      "## Question 8) Noyau RBF :"
     ]
    },
    {
     "cell_type": "code",
     "collapsed": false,
     "input": [
      "# To be changed by the user:\n",
      "low_exp  = -2\n",
      "high_exp = 1\n",
      "points   = 20\n",
      "# Plot `points` points from 1^(`low_exp`) to 1^(`high_exp`) \n",
      "\n",
      "C_params = np.logspace(low_exp, high_exp, num=points)\n",
      "\n",
      "\n",
      "X_train, X_test, y_train, y_test = train_test_split(X, y, test_size=0.25)\n",
      "\n",
      "clf_face_rbf = GridSearchCV(SVC(C=1), {'C':C_params, 'kernel':['rbf']}, n_jobs=2)\n",
      "clf_face_rbf.fit(X_train, y_train)\n",
      "\n",
      "error   = 100 - 100*clf_face_rbf.cv_results_['mean_test_score']\n",
      "    \n",
      "ax = plt.gca()\n",
      "ax.scatter(C_params, error)\n",
      "ax.set_xscale('log')\n",
      "ax.set_xlim(np.min(C_params)/10, np.max(C_params)*10)\n",
      "plt.title(\"Influence of penalty parameter\")\n",
      "plt.ylabel(\"Error percentage\")\n",
      "plt.xlabel(\"Penalty parameter\")"
     ],
     "language": "python",
     "metadata": {},
     "outputs": [
      {
       "metadata": {},
       "output_type": "pyout",
       "prompt_number": 105,
       "text": [
        "<matplotlib.text.Text at 0x7fc39de71290>"
       ]
      },
      {
       "metadata": {},
       "output_type": "display_data",
       "png": "[encoded data removed]",
       "text": [
        "<matplotlib.figure.Figure at 0x7fc3ac672e10>"
       ]
      }
     ],
     "prompt_number": 105
    },
    {
     "cell_type": "markdown",
     "metadata": {
      "slideshow": {
       "slide_type": "-"
      }
     },
     "source": [
      "Sans r\u00e9duction de dimension, on trouve un taux d'erreur plus \u00e9lev\u00e9 avec un noyau RBF qu'avec un noyau lin\u00e9aire. La valeur de $C$ qui minimise l'erreur a chang\u00e9.\n",
      "\n",
      "Essayons en r\u00e9duisant la dimension."
     ]
    },
    {
     "cell_type": "code",
     "collapsed": false,
     "input": [
      "from sklearn.decomposition import PCA\n",
      "\n",
      "min_err = 100\n",
      "min_c = -1\n",
      "min_i = -1\n",
      "for i in range(2,100,5):\n",
      "    print \".\",\n",
      "    pca = PCA(n_components=i)\n",
      "\n",
      "#     print(\"Dimension before PCA: \",X.shape)\n",
      "    X_new = pca.fit_transform(X)\n",
      "#     print(\"Dimension after PCA: \",X_new.shape)\n",
      "\n",
      "\n",
      "    # Scale features\n",
      "    X_new -= np.mean(X_new, axis=0)\n",
      "    X_new /= np.std(X_new, axis=0)\n",
      "\n",
      "    X_train, X_test, y_train, y_test = train_test_split(X_new, y, test_size=0.25)\n",
      "\n",
      "    # To be changed by the user:\n",
      "    low_exp  = -1.5\n",
      "    high_exp = 1.5\n",
      "    points   = 20\n",
      "    # Plot `points` points from 1^(`low_exp`) to 1^(`high_exp`) \n",
      "\n",
      "    clf_face_rbf_pca = GridSearchCV(SVC(C=1), {'C':np.logspace(low_exp, high_exp, num=points), 'kernel':['rbf']}, n_jobs=2)\n",
      "    clf_face_rbf_pca.fit(X_train, y_train)\n",
      "\n",
      "    C_params = [param['C'] for param in clf_face_rbf_pca.cv_results_['params']]\n",
      "    error   = 100 - 100*clf_face_rbf_pca.cv_results_['mean_test_score']\n",
      "#     print(\"i = %s, min error = %s\" % (i, np.min(error)))\n",
      "    if(np.min(error) < min_err):\n",
      "        min_err = np.min(error)\n",
      "        min_i = i\n",
      "        min_c = clf_face_rbf_pca.best_params_['C']\n",
      "        \n",
      "print(\"\\nLowest error found with when reducing dimension to %s features, with C = %.2s, error = %.2s%%\" % (min_i, min_err, min_c))\n"
     ],
     "language": "python",
     "metadata": {},
     "outputs": [
      {
       "output_type": "stream",
       "stream": "stdout",
       "text": [
        "."
       ]
      },
      {
       "output_type": "stream",
       "stream": "stdout",
       "text": [
        " ."
       ]
      },
      {
       "output_type": "stream",
       "stream": "stdout",
       "text": [
        " ."
       ]
      },
      {
       "output_type": "stream",
       "stream": "stdout",
       "text": [
        " ."
       ]
      },
      {
       "output_type": "stream",
       "stream": "stdout",
       "text": [
        " ."
       ]
      },
      {
       "output_type": "stream",
       "stream": "stdout",
       "text": [
        " ."
       ]
      },
      {
       "output_type": "stream",
       "stream": "stdout",
       "text": [
        " ."
       ]
      },
      {
       "output_type": "stream",
       "stream": "stdout",
       "text": [
        " ."
       ]
      },
      {
       "output_type": "stream",
       "stream": "stdout",
       "text": [
        " ."
       ]
      },
      {
       "output_type": "stream",
       "stream": "stdout",
       "text": [
        " ."
       ]
      },
      {
       "output_type": "stream",
       "stream": "stdout",
       "text": [
        " ."
       ]
      },
      {
       "output_type": "stream",
       "stream": "stdout",
       "text": [
        " ."
       ]
      },
      {
       "output_type": "stream",
       "stream": "stdout",
       "text": [
        " ."
       ]
      },
      {
       "output_type": "stream",
       "stream": "stdout",
       "text": [
        " ."
       ]
      },
      {
       "output_type": "stream",
       "stream": "stdout",
       "text": [
        " ."
       ]
      },
      {
       "output_type": "stream",
       "stream": "stdout",
       "text": [
        " ."
       ]
      },
      {
       "output_type": "stream",
       "stream": "stdout",
       "text": [
        " ."
       ]
      },
      {
       "output_type": "stream",
       "stream": "stdout",
       "text": [
        " ."
       ]
      },
      {
       "output_type": "stream",
       "stream": "stdout",
       "text": [
        " ."
       ]
      },
      {
       "output_type": "stream",
       "stream": "stdout",
       "text": [
        " ."
       ]
      },
      {
       "output_type": "stream",
       "stream": "stdout",
       "text": [
        " \n",
        "Lowest error found with when reducing dimension to 27 features, with C = 9., error = 3.%\n"
       ]
      }
     ],
     "prompt_number": 106
    },
    {
     "cell_type": "markdown",
     "metadata": {},
     "source": [
      "Apr\u00e8s avoir r\u00e9duit la dimension, on trouve un taux d'erreur tr\u00e8s bas, moins de 5% !"
     ]
    },
    {
     "cell_type": "code",
     "collapsed": false,
     "input": [],
     "language": "python",
     "metadata": {},
     "outputs": [],
     "prompt_number": 106
    }
   ],
   "metadata": {}
  }
 ]
}